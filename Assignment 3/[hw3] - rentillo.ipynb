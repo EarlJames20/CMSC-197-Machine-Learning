{
 "cells": [
  {
   "cell_type": "markdown",
   "id": "03bb53d1",
   "metadata": {},
   "source": [
    "# CMSC 197 (Machine Learning) - Assignment 3\n",
    "\n",
    "### Earl James Q. Rentillo"
   ]
  },
  {
   "cell_type": "code",
   "execution_count": 32,
   "id": "cb2d6e1f",
   "metadata": {},
   "outputs": [],
   "source": [
    "##### Standard Libraries #####\n",
    "import numpy as np\n",
    "import pandas as pd\n",
    "import matplotlib.pyplot as plt\n",
    "import seaborn as sns\n",
    "sns.set_style(\"whitegrid\")\n",
    "sns.set_context(\"poster\")\n",
    "\n",
    "%matplotlib inline\n",
    "\n",
    "##### For Preprocessing #####\n",
    "from sklearn.model_selection import train_test_split\n",
    "from sklearn.preprocessing import scale\n",
    "\n",
    "##### For Building the Model #####\n",
    "from sklearn.linear_model import LinearRegression, Lasso, Ridge\n",
    "from sklearn.pipeline import make_pipeline\n",
    "\n",
    "##### For Validation of the Model #####\n",
    "from sklearn.metrics import r2_score, mean_absolute_error, mean_squared_error\n",
    "from sklearn.model_selection import cross_val_score"
   ]
  },
  {
   "cell_type": "markdown",
   "id": "2083ae98",
   "metadata": {},
   "source": [
    "## Loading the Advertising.csv dataset"
   ]
  },
  {
   "cell_type": "code",
   "execution_count": 33,
   "id": "d58c765e",
   "metadata": {},
   "outputs": [],
   "source": [
    "df = pd.read_csv(\"data/Advertising.csv\")"
   ]
  },
  {
   "cell_type": "code",
   "execution_count": 34,
   "id": "300ec198",
   "metadata": {},
   "outputs": [
    {
     "data": {
      "text/html": [
       "<div>\n",
       "<style scoped>\n",
       "    .dataframe tbody tr th:only-of-type {\n",
       "        vertical-align: middle;\n",
       "    }\n",
       "\n",
       "    .dataframe tbody tr th {\n",
       "        vertical-align: top;\n",
       "    }\n",
       "\n",
       "    .dataframe thead th {\n",
       "        text-align: right;\n",
       "    }\n",
       "</style>\n",
       "<table border=\"1\" class=\"dataframe\">\n",
       "  <thead>\n",
       "    <tr style=\"text-align: right;\">\n",
       "      <th></th>\n",
       "      <th>TV</th>\n",
       "      <th>radio</th>\n",
       "      <th>newspaper</th>\n",
       "      <th>sales</th>\n",
       "    </tr>\n",
       "  </thead>\n",
       "  <tbody>\n",
       "    <tr>\n",
       "      <th>0</th>\n",
       "      <td>230.1</td>\n",
       "      <td>37.8</td>\n",
       "      <td>69.2</td>\n",
       "      <td>22.1</td>\n",
       "    </tr>\n",
       "    <tr>\n",
       "      <th>1</th>\n",
       "      <td>44.5</td>\n",
       "      <td>39.3</td>\n",
       "      <td>45.1</td>\n",
       "      <td>10.4</td>\n",
       "    </tr>\n",
       "    <tr>\n",
       "      <th>2</th>\n",
       "      <td>17.2</td>\n",
       "      <td>45.9</td>\n",
       "      <td>69.3</td>\n",
       "      <td>9.3</td>\n",
       "    </tr>\n",
       "    <tr>\n",
       "      <th>3</th>\n",
       "      <td>151.5</td>\n",
       "      <td>41.3</td>\n",
       "      <td>58.5</td>\n",
       "      <td>18.5</td>\n",
       "    </tr>\n",
       "    <tr>\n",
       "      <th>4</th>\n",
       "      <td>180.8</td>\n",
       "      <td>10.8</td>\n",
       "      <td>58.4</td>\n",
       "      <td>12.9</td>\n",
       "    </tr>\n",
       "    <tr>\n",
       "      <th>...</th>\n",
       "      <td>...</td>\n",
       "      <td>...</td>\n",
       "      <td>...</td>\n",
       "      <td>...</td>\n",
       "    </tr>\n",
       "    <tr>\n",
       "      <th>195</th>\n",
       "      <td>38.2</td>\n",
       "      <td>3.7</td>\n",
       "      <td>13.8</td>\n",
       "      <td>7.6</td>\n",
       "    </tr>\n",
       "    <tr>\n",
       "      <th>196</th>\n",
       "      <td>94.2</td>\n",
       "      <td>4.9</td>\n",
       "      <td>8.1</td>\n",
       "      <td>9.7</td>\n",
       "    </tr>\n",
       "    <tr>\n",
       "      <th>197</th>\n",
       "      <td>177.0</td>\n",
       "      <td>9.3</td>\n",
       "      <td>6.4</td>\n",
       "      <td>12.8</td>\n",
       "    </tr>\n",
       "    <tr>\n",
       "      <th>198</th>\n",
       "      <td>283.6</td>\n",
       "      <td>42.0</td>\n",
       "      <td>66.2</td>\n",
       "      <td>25.5</td>\n",
       "    </tr>\n",
       "    <tr>\n",
       "      <th>199</th>\n",
       "      <td>232.1</td>\n",
       "      <td>8.6</td>\n",
       "      <td>8.7</td>\n",
       "      <td>13.4</td>\n",
       "    </tr>\n",
       "  </tbody>\n",
       "</table>\n",
       "<p>200 rows × 4 columns</p>\n",
       "</div>"
      ],
      "text/plain": [
       "        TV  radio  newspaper  sales\n",
       "0    230.1   37.8       69.2   22.1\n",
       "1     44.5   39.3       45.1   10.4\n",
       "2     17.2   45.9       69.3    9.3\n",
       "3    151.5   41.3       58.5   18.5\n",
       "4    180.8   10.8       58.4   12.9\n",
       "..     ...    ...        ...    ...\n",
       "195   38.2    3.7       13.8    7.6\n",
       "196   94.2    4.9        8.1    9.7\n",
       "197  177.0    9.3        6.4   12.8\n",
       "198  283.6   42.0       66.2   25.5\n",
       "199  232.1    8.6        8.7   13.4\n",
       "\n",
       "[200 rows x 4 columns]"
      ]
     },
     "execution_count": 34,
     "metadata": {},
     "output_type": "execute_result"
    }
   ],
   "source": [
    "df_mean = df.mean()\n",
    "df_std = df.std()\n",
    "df"
   ]
  },
  {
   "cell_type": "markdown",
   "id": "bd406b00",
   "metadata": {},
   "source": [
    "## Standardizing each column of the dataset"
   ]
  },
  {
   "cell_type": "code",
   "execution_count": 35,
   "id": "6e7c94e6",
   "metadata": {
    "scrolled": false
   },
   "outputs": [
    {
     "data": {
      "text/html": [
       "<div>\n",
       "<style scoped>\n",
       "    .dataframe tbody tr th:only-of-type {\n",
       "        vertical-align: middle;\n",
       "    }\n",
       "\n",
       "    .dataframe tbody tr th {\n",
       "        vertical-align: top;\n",
       "    }\n",
       "\n",
       "    .dataframe thead th {\n",
       "        text-align: right;\n",
       "    }\n",
       "</style>\n",
       "<table border=\"1\" class=\"dataframe\">\n",
       "  <thead>\n",
       "    <tr style=\"text-align: right;\">\n",
       "      <th></th>\n",
       "      <th>TV</th>\n",
       "      <th>radio</th>\n",
       "      <th>newspaper</th>\n",
       "      <th>sales</th>\n",
       "    </tr>\n",
       "  </thead>\n",
       "  <tbody>\n",
       "    <tr>\n",
       "      <th>0</th>\n",
       "      <td>0.967425</td>\n",
       "      <td>0.979066</td>\n",
       "      <td>1.774493</td>\n",
       "      <td>1.548168</td>\n",
       "    </tr>\n",
       "    <tr>\n",
       "      <th>1</th>\n",
       "      <td>-1.194379</td>\n",
       "      <td>1.080097</td>\n",
       "      <td>0.667903</td>\n",
       "      <td>-0.694304</td>\n",
       "    </tr>\n",
       "    <tr>\n",
       "      <th>2</th>\n",
       "      <td>-1.512360</td>\n",
       "      <td>1.524637</td>\n",
       "      <td>1.779084</td>\n",
       "      <td>-0.905135</td>\n",
       "    </tr>\n",
       "    <tr>\n",
       "      <th>3</th>\n",
       "      <td>0.051919</td>\n",
       "      <td>1.214806</td>\n",
       "      <td>1.283185</td>\n",
       "      <td>0.858177</td>\n",
       "    </tr>\n",
       "    <tr>\n",
       "      <th>4</th>\n",
       "      <td>0.393196</td>\n",
       "      <td>-0.839507</td>\n",
       "      <td>1.278593</td>\n",
       "      <td>-0.215143</td>\n",
       "    </tr>\n",
       "    <tr>\n",
       "      <th>...</th>\n",
       "      <td>...</td>\n",
       "      <td>...</td>\n",
       "      <td>...</td>\n",
       "      <td>...</td>\n",
       "    </tr>\n",
       "    <tr>\n",
       "      <th>195</th>\n",
       "      <td>-1.267759</td>\n",
       "      <td>-1.317724</td>\n",
       "      <td>-0.769287</td>\n",
       "      <td>-1.230964</td>\n",
       "    </tr>\n",
       "    <tr>\n",
       "      <th>196</th>\n",
       "      <td>-0.615491</td>\n",
       "      <td>-1.236899</td>\n",
       "      <td>-1.031011</td>\n",
       "      <td>-0.828469</td>\n",
       "    </tr>\n",
       "    <tr>\n",
       "      <th>197</th>\n",
       "      <td>0.348934</td>\n",
       "      <td>-0.940539</td>\n",
       "      <td>-1.109069</td>\n",
       "      <td>-0.234310</td>\n",
       "    </tr>\n",
       "    <tr>\n",
       "      <th>198</th>\n",
       "      <td>1.590574</td>\n",
       "      <td>1.261955</td>\n",
       "      <td>1.636743</td>\n",
       "      <td>2.199827</td>\n",
       "    </tr>\n",
       "    <tr>\n",
       "      <th>199</th>\n",
       "      <td>0.990720</td>\n",
       "      <td>-0.987687</td>\n",
       "      <td>-1.003461</td>\n",
       "      <td>-0.119311</td>\n",
       "    </tr>\n",
       "  </tbody>\n",
       "</table>\n",
       "<p>200 rows × 4 columns</p>\n",
       "</div>"
      ],
      "text/plain": [
       "           TV     radio  newspaper     sales\n",
       "0    0.967425  0.979066   1.774493  1.548168\n",
       "1   -1.194379  1.080097   0.667903 -0.694304\n",
       "2   -1.512360  1.524637   1.779084 -0.905135\n",
       "3    0.051919  1.214806   1.283185  0.858177\n",
       "4    0.393196 -0.839507   1.278593 -0.215143\n",
       "..        ...       ...        ...       ...\n",
       "195 -1.267759 -1.317724  -0.769287 -1.230964\n",
       "196 -0.615491 -1.236899  -1.031011 -0.828469\n",
       "197  0.348934 -0.940539  -1.109069 -0.234310\n",
       "198  1.590574  1.261955   1.636743  2.199827\n",
       "199  0.990720 -0.987687  -1.003461 -0.119311\n",
       "\n",
       "[200 rows x 4 columns]"
      ]
     },
     "execution_count": 35,
     "metadata": {},
     "output_type": "execute_result"
    }
   ],
   "source": [
    "df = (df - df_mean)/df_std\n",
    "df"
   ]
  },
  {
   "cell_type": "markdown",
   "id": "d54e975b",
   "metadata": {},
   "source": [
    "## Adding an extra column composing of all 1s to X"
   ]
  },
  {
   "cell_type": "code",
   "execution_count": 36,
   "id": "81543a14",
   "metadata": {},
   "outputs": [
    {
     "data": {
      "text/html": [
       "<div>\n",
       "<style scoped>\n",
       "    .dataframe tbody tr th:only-of-type {\n",
       "        vertical-align: middle;\n",
       "    }\n",
       "\n",
       "    .dataframe tbody tr th {\n",
       "        vertical-align: top;\n",
       "    }\n",
       "\n",
       "    .dataframe thead th {\n",
       "        text-align: right;\n",
       "    }\n",
       "</style>\n",
       "<table border=\"1\" class=\"dataframe\">\n",
       "  <thead>\n",
       "    <tr style=\"text-align: right;\">\n",
       "      <th></th>\n",
       "      <th>bias</th>\n",
       "      <th>TV</th>\n",
       "      <th>radio</th>\n",
       "      <th>newspaper</th>\n",
       "    </tr>\n",
       "  </thead>\n",
       "  <tbody>\n",
       "    <tr>\n",
       "      <th>0</th>\n",
       "      <td>1</td>\n",
       "      <td>0.967425</td>\n",
       "      <td>0.979066</td>\n",
       "      <td>1.774493</td>\n",
       "    </tr>\n",
       "    <tr>\n",
       "      <th>1</th>\n",
       "      <td>1</td>\n",
       "      <td>-1.194379</td>\n",
       "      <td>1.080097</td>\n",
       "      <td>0.667903</td>\n",
       "    </tr>\n",
       "    <tr>\n",
       "      <th>2</th>\n",
       "      <td>1</td>\n",
       "      <td>-1.512360</td>\n",
       "      <td>1.524637</td>\n",
       "      <td>1.779084</td>\n",
       "    </tr>\n",
       "    <tr>\n",
       "      <th>3</th>\n",
       "      <td>1</td>\n",
       "      <td>0.051919</td>\n",
       "      <td>1.214806</td>\n",
       "      <td>1.283185</td>\n",
       "    </tr>\n",
       "    <tr>\n",
       "      <th>4</th>\n",
       "      <td>1</td>\n",
       "      <td>0.393196</td>\n",
       "      <td>-0.839507</td>\n",
       "      <td>1.278593</td>\n",
       "    </tr>\n",
       "    <tr>\n",
       "      <th>...</th>\n",
       "      <td>...</td>\n",
       "      <td>...</td>\n",
       "      <td>...</td>\n",
       "      <td>...</td>\n",
       "    </tr>\n",
       "    <tr>\n",
       "      <th>195</th>\n",
       "      <td>1</td>\n",
       "      <td>-1.267759</td>\n",
       "      <td>-1.317724</td>\n",
       "      <td>-0.769287</td>\n",
       "    </tr>\n",
       "    <tr>\n",
       "      <th>196</th>\n",
       "      <td>1</td>\n",
       "      <td>-0.615491</td>\n",
       "      <td>-1.236899</td>\n",
       "      <td>-1.031011</td>\n",
       "    </tr>\n",
       "    <tr>\n",
       "      <th>197</th>\n",
       "      <td>1</td>\n",
       "      <td>0.348934</td>\n",
       "      <td>-0.940539</td>\n",
       "      <td>-1.109069</td>\n",
       "    </tr>\n",
       "    <tr>\n",
       "      <th>198</th>\n",
       "      <td>1</td>\n",
       "      <td>1.590574</td>\n",
       "      <td>1.261955</td>\n",
       "      <td>1.636743</td>\n",
       "    </tr>\n",
       "    <tr>\n",
       "      <th>199</th>\n",
       "      <td>1</td>\n",
       "      <td>0.990720</td>\n",
       "      <td>-0.987687</td>\n",
       "      <td>-1.003461</td>\n",
       "    </tr>\n",
       "  </tbody>\n",
       "</table>\n",
       "<p>200 rows × 4 columns</p>\n",
       "</div>"
      ],
      "text/plain": [
       "     bias        TV     radio  newspaper\n",
       "0       1  0.967425  0.979066   1.774493\n",
       "1       1 -1.194379  1.080097   0.667903\n",
       "2       1 -1.512360  1.524637   1.779084\n",
       "3       1  0.051919  1.214806   1.283185\n",
       "4       1  0.393196 -0.839507   1.278593\n",
       "..    ...       ...       ...        ...\n",
       "195     1 -1.267759 -1.317724  -0.769287\n",
       "196     1 -0.615491 -1.236899  -1.031011\n",
       "197     1  0.348934 -0.940539  -1.109069\n",
       "198     1  1.590574  1.261955   1.636743\n",
       "199     1  0.990720 -0.987687  -1.003461\n",
       "\n",
       "[200 rows x 4 columns]"
      ]
     },
     "execution_count": 36,
     "metadata": {},
     "output_type": "execute_result"
    }
   ],
   "source": [
    "x = df.drop(\"sales\", axis = 1)\n",
    "x.insert(0, \"bias\", 1)\n",
    "y = df[\"sales\"]\n",
    "x"
   ]
  },
  {
   "cell_type": "markdown",
   "id": "86c30d2b",
   "metadata": {},
   "source": [
    "## Dividing the dataset into training set (0.85) and testing set (0.15)"
   ]
  },
  {
   "cell_type": "code",
   "execution_count": 37,
   "id": "aae94303",
   "metadata": {},
   "outputs": [],
   "source": [
    "x_train, x_test, y_train, y_test = train_test_split(x, y, test_size = 0.15, random_state = 42)\n"
   ]
  },
  {
   "cell_type": "markdown",
   "id": "e3ada05b",
   "metadata": {},
   "source": [
    "## Fitting the model on the training set"
   ]
  },
  {
   "cell_type": "code",
   "execution_count": 38,
   "id": "3322759d",
   "metadata": {},
   "outputs": [],
   "source": [
    "# initializing weights\n",
    "\n",
    "def initialize_weights():\n",
    "    init_w = np.array([0.0, 0.0, 0.0, 0.0])\n",
    "    return init_w\n"
   ]
  },
  {
   "cell_type": "code",
   "execution_count": 39,
   "id": "59dfc109",
   "metadata": {},
   "outputs": [],
   "source": [
    "# predicting y \n",
    "\n",
    "def predict(x, weights): \n",
    "    return np.dot(x, weights)\n"
   ]
  },
  {
   "cell_type": "code",
   "execution_count": 40,
   "id": "2fd24913",
   "metadata": {},
   "outputs": [],
   "source": [
    "# computing the cost\n",
    "\n",
    "def compute_cost(y, y_hat):\n",
    "    y_shape = y.shape[0]\n",
    "    square = (y_hat - y)**2\n",
    "    cost = np.sum(square)/(y_shape*2)\n",
    "    return cost\n",
    "\n",
    "# where y is the actual value and y_hat is the predicted value"
   ]
  },
  {
   "cell_type": "code",
   "execution_count": 41,
   "id": "15dff57f",
   "metadata": {},
   "outputs": [],
   "source": [
    "# computing the gradient \n",
    "\n",
    "def compute_gradient(x, y, y_hat, a):\n",
    "    y_shape = y.shape[0]\n",
    "    dot_product = np.dot(x.T, y_hat - y) \n",
    "    w = (a*dot_product)/y_shape\n",
    "    return w"
   ]
  },
  {
   "cell_type": "code",
   "execution_count": 42,
   "id": "57b52eed",
   "metadata": {},
   "outputs": [],
   "source": [
    "# updating the weights \n",
    "\n",
    "def update_weights(weights, gradient):\n",
    "    w = weights - gradient\n",
    "    return w"
   ]
  },
  {
   "cell_type": "code",
   "execution_count": 43,
   "id": "9ee99122",
   "metadata": {},
   "outputs": [],
   "source": [
    "# gradient descent function, with learning rate a = 0.01 \n",
    "\n",
    "def grad_descent(x, y, iteration, weights, a = 0.01):\n",
    "    i = 0\n",
    "    list_of_costs = []\n",
    "    list_of_weights = []\n",
    "    while i < iteration:\n",
    "        y_hat = predict(x, weights)\n",
    "        costs = compute_cost(y, y_hat)\n",
    "        list_of_costs.append(costs)\n",
    "        gradient = compute_gradient(x, y, y_hat, a)\n",
    "        weights = update_weights(weights, gradient)\n",
    "        list_of_weights.append(weights)\n",
    "        i += 1\n",
    "    return list_of_costs, list_of_weights\n",
    "\n",
    "# where a = learning rate"
   ]
  },
  {
   "cell_type": "code",
   "execution_count": 44,
   "id": "0d98ef7b",
   "metadata": {},
   "outputs": [],
   "source": [
    "#plot cost function\n",
    "\n",
    "def plot_cost(cost):\n",
    "    plt.title(\"Plot for Cost\")\n",
    "    plt.xlabel(\"Number of Iterations\")\n",
    "    plt.ylabel(\"Cost\")\n",
    "    plt.plot(cost)\n",
    "    plt.show()"
   ]
  },
  {
   "cell_type": "code",
   "execution_count": 45,
   "id": "caa91df4",
   "metadata": {},
   "outputs": [
    {
     "data": {
      "image/png": "[encoded data removed]",
      "text/plain": [
       "<Figure size 432x288 with 1 Axes>"
      ]
     },
     "metadata": {
      "needs_background": "light"
     },
     "output_type": "display_data"
    }
   ],
   "source": [
    "train_weights = initialize_weights()\n",
    "training_costs, actual_weights = grad_descent(x_train, y_train, 1000, train_weights)\n",
    "plot_cost(training_costs)"
   ]
  },
  {
   "cell_type": "code",
   "execution_count": 46,
   "id": "24017040",
   "metadata": {},
   "outputs": [
    {
     "name": "stdout",
     "output_type": "stream",
     "text": [
      "0.051079827865479224\n"
     ]
    }
   ],
   "source": [
    "# predicting y for train set\n",
    "\n",
    "yhat_train = predict(x_train, actual_weights[-1])\n",
    "y_train_cost = compute_cost(y_train, yhat_train)\n",
    "print(y_train_cost)"
   ]
  },
  {
   "cell_type": "code",
   "execution_count": 47,
   "id": "ac8c1b4b",
   "metadata": {},
   "outputs": [
    {
     "name": "stdout",
     "output_type": "stream",
     "text": [
      "0.052448649265712334\n"
     ]
    }
   ],
   "source": [
    "# predicting y for test set\n",
    "\n",
    "yhat_test = predict(x_test, actual_weights[-1])\n",
    "y_test_cost = compute_cost(y_test, yhat_test)\n",
    "print(y_test_cost)"
   ]
  },
  {
   "cell_type": "markdown",
   "id": "35a1e270",
   "metadata": {},
   "source": [
    "## Reverting the standardized data into the original form"
   ]
  },
  {
   "cell_type": "code",
   "execution_count": 48,
   "id": "aabb5021",
   "metadata": {},
   "outputs": [
    {
     "data": {
      "text/html": [
       "<div>\n",
       "<style scoped>\n",
       "    .dataframe tbody tr th:only-of-type {\n",
       "        vertical-align: middle;\n",
       "    }\n",
       "\n",
       "    .dataframe tbody tr th {\n",
       "        vertical-align: top;\n",
       "    }\n",
       "\n",
       "    .dataframe thead th {\n",
       "        text-align: right;\n",
       "    }\n",
       "</style>\n",
       "<table border=\"1\" class=\"dataframe\">\n",
       "  <thead>\n",
       "    <tr style=\"text-align: right;\">\n",
       "      <th></th>\n",
       "      <th>TV</th>\n",
       "      <th>radio</th>\n",
       "      <th>newspaper</th>\n",
       "      <th>sales</th>\n",
       "    </tr>\n",
       "  </thead>\n",
       "  <tbody>\n",
       "    <tr>\n",
       "      <th>0</th>\n",
       "      <td>230.1</td>\n",
       "      <td>37.8</td>\n",
       "      <td>69.2</td>\n",
       "      <td>22.1</td>\n",
       "    </tr>\n",
       "    <tr>\n",
       "      <th>1</th>\n",
       "      <td>44.5</td>\n",
       "      <td>39.3</td>\n",
       "      <td>45.1</td>\n",
       "      <td>10.4</td>\n",
       "    </tr>\n",
       "    <tr>\n",
       "      <th>2</th>\n",
       "      <td>17.2</td>\n",
       "      <td>45.9</td>\n",
       "      <td>69.3</td>\n",
       "      <td>9.3</td>\n",
       "    </tr>\n",
       "    <tr>\n",
       "      <th>3</th>\n",
       "      <td>151.5</td>\n",
       "      <td>41.3</td>\n",
       "      <td>58.5</td>\n",
       "      <td>18.5</td>\n",
       "    </tr>\n",
       "    <tr>\n",
       "      <th>4</th>\n",
       "      <td>180.8</td>\n",
       "      <td>10.8</td>\n",
       "      <td>58.4</td>\n",
       "      <td>12.9</td>\n",
       "    </tr>\n",
       "    <tr>\n",
       "      <th>...</th>\n",
       "      <td>...</td>\n",
       "      <td>...</td>\n",
       "      <td>...</td>\n",
       "      <td>...</td>\n",
       "    </tr>\n",
       "    <tr>\n",
       "      <th>195</th>\n",
       "      <td>38.2</td>\n",
       "      <td>3.7</td>\n",
       "      <td>13.8</td>\n",
       "      <td>7.6</td>\n",
       "    </tr>\n",
       "    <tr>\n",
       "      <th>196</th>\n",
       "      <td>94.2</td>\n",
       "      <td>4.9</td>\n",
       "      <td>8.1</td>\n",
       "      <td>9.7</td>\n",
       "    </tr>\n",
       "    <tr>\n",
       "      <th>197</th>\n",
       "      <td>177.0</td>\n",
       "      <td>9.3</td>\n",
       "      <td>6.4</td>\n",
       "      <td>12.8</td>\n",
       "    </tr>\n",
       "    <tr>\n",
       "      <th>198</th>\n",
       "      <td>283.6</td>\n",
       "      <td>42.0</td>\n",
       "      <td>66.2</td>\n",
       "      <td>25.5</td>\n",
       "    </tr>\n",
       "    <tr>\n",
       "      <th>199</th>\n",
       "      <td>232.1</td>\n",
       "      <td>8.6</td>\n",
       "      <td>8.7</td>\n",
       "      <td>13.4</td>\n",
       "    </tr>\n",
       "  </tbody>\n",
       "</table>\n",
       "<p>200 rows × 4 columns</p>\n",
       "</div>"
      ],
      "text/plain": [
       "        TV  radio  newspaper  sales\n",
       "0    230.1   37.8       69.2   22.1\n",
       "1     44.5   39.3       45.1   10.4\n",
       "2     17.2   45.9       69.3    9.3\n",
       "3    151.5   41.3       58.5   18.5\n",
       "4    180.8   10.8       58.4   12.9\n",
       "..     ...    ...        ...    ...\n",
       "195   38.2    3.7       13.8    7.6\n",
       "196   94.2    4.9        8.1    9.7\n",
       "197  177.0    9.3        6.4   12.8\n",
       "198  283.6   42.0       66.2   25.5\n",
       "199  232.1    8.6        8.7   13.4\n",
       "\n",
       "[200 rows x 4 columns]"
      ]
     },
     "execution_count": 48,
     "metadata": {},
     "output_type": "execute_result"
    }
   ],
   "source": [
    "df_scaled = x.drop(\"bias\", axis = 1)\n",
    "df_scaled[\"sales\"] = y\n",
    "\n",
    "df_original = (df_scaled*df_std) + df_mean\n",
    "df_original"
   ]
  },
  {
   "cell_type": "markdown",
   "id": "8b0b8fd0",
   "metadata": {},
   "source": [
    "## Observing the cost results"
   ]
  },
  {
   "cell_type": "code",
   "execution_count": 49,
   "id": "e25b2adf",
   "metadata": {},
   "outputs": [
    {
     "name": "stdout",
     "output_type": "stream",
     "text": [
      "Cost using the original data set: 7508.733060086956\n"
     ]
    }
   ],
   "source": [
    "x = df_original.drop(\"sales\", axis = 1)\n",
    "x.insert(0, \"bias\", 1)\n",
    "y = df_original[\"sales\"]\n",
    "\n",
    "y_hat = predict(x, actual_weights[-1])\n",
    "original_cost = compute_cost(y, y_hat)\n",
    "print(\"Cost using the original data set: \" + str(original_cost))\n",
    "\n"
   ]
  },
  {
   "cell_type": "markdown",
   "id": "d6ba9f73",
   "metadata": {},
   "source": [
    "The cost obtained from using the original data set yields a significantly greater value compared to that of the standardized data set. This implies that the calculated weights used in the model is not fit for predicting sales of a data set that is not standardized first."
   ]
  },
  {
   "cell_type": "markdown",
   "id": "aaa57915",
   "metadata": {},
   "source": [
    "# Answers to questions"
   ]
  },
  {
   "cell_type": "markdown",
   "id": "342f32ad",
   "metadata": {},
   "source": [
    "## 1. What are the optimal weights found by your implemented gradient descent? Plug it into the linear model: ℎ𝜃(𝑥) = 𝜃0 + 𝜃1 𝑇𝑉 + 𝜃2𝑅𝑎𝑑𝑖𝑜 + 𝜃3𝑁𝑒𝑤𝑠𝑝𝑎𝑝𝑒𝑟. \n",
    "## What are your interpretations regarding the formed linear model?"
   ]
  },
  {
   "cell_type": "code",
   "execution_count": 50,
   "id": "98aa0573",
   "metadata": {},
   "outputs": [
    {
     "data": {
      "text/plain": [
       "array([4.35589486e-04, 7.37383146e-01, 5.36307180e-01, 3.14254020e-03])"
      ]
     },
     "execution_count": 50,
     "metadata": {},
     "output_type": "execute_result"
    }
   ],
   "source": [
    "# As 50000 iterations take too long to process, 5000 iterations are used instead\n",
    "\n",
    "weights = initialize_weights()\n",
    "training_costs, actual_weights = grad_descent(x_train, y_train, 5000, weights)\n",
    "actual_weights[-1]"
   ]
  },
  {
   "cell_type": "markdown",
   "id": "894ad345",
   "metadata": {},
   "source": [
    "Looking at the output array, the linear model can be written as: \n",
    "\n",
    "ℎ𝜃(𝑥) = 4.35589486e-04 + 7.37383146e-01 * 𝑇𝑉 + 5.36307180e-01 * 𝑅𝑎𝑑𝑖𝑜 + 3.14254020e-03 * 𝑁𝑒𝑤𝑠𝑝𝑎𝑝𝑒𝑟\n",
    "\n",
    "In this linear model, we can say that TV has the highest influence on sales as it bears the highest weight among the three predictors. This is then followed by radio and lastly, newspaper."
   ]
  },
  {
   "cell_type": "markdown",
   "id": "030ea508",
   "metadata": {},
   "source": [
    "## 2. Provide a scatter plot of the y_hat(i) and y(i) for both the train and test set. Is there a trend? Provide an r2 score (also available in sklearn)"
   ]
  },
  {
   "cell_type": "code",
   "execution_count": 51,
   "id": "fa344b5c",
   "metadata": {},
   "outputs": [
    {
     "name": "stdout",
     "output_type": "stream",
     "text": [
      "R2 score using train set:  0.8936793584593189\n"
     ]
    },
    {
     "data": {
      "image/png": "[encoded data removed]",
      "text/plain": [
       "<Figure size 432x288 with 1 Axes>"
      ]
     },
     "metadata": {
      "needs_background": "light"
     },
     "output_type": "display_data"
    }
   ],
   "source": [
    "# scatter plot for train set\n",
    "\n",
    "y_hat = predict(x_train, actual_weights[-1])\n",
    "plt.title(\"Train Set Scatter Plot\")\n",
    "plt.xlabel(\"Predicted Y\")\n",
    "plt.ylabel(\"Actual Y\")\n",
    "\n",
    "sns.scatterplot(x = y_hat, y = y_train)\n",
    "r2_train = r2_score(y_train, y_hat)\n",
    "print(\"R2 score using train set: \", r2_train)"
   ]
  },
  {
   "cell_type": "code",
   "execution_count": 52,
   "id": "d148f403",
   "metadata": {},
   "outputs": [
    {
     "name": "stdout",
     "output_type": "stream",
     "text": [
      "R2 score using test set:  0.911027570209169\n"
     ]
    },
    {
     "data": {
      "image/png": "[encoded data removed]",
      "text/plain": [
       "<Figure size 432x288 with 1 Axes>"
      ]
     },
     "metadata": {
      "needs_background": "light"
     },
     "output_type": "display_data"
    }
   ],
   "source": [
    "# scatter plot for test set\n",
    "\n",
    "y_hat = predict(x_test, actual_weights[-1])\n",
    "plt.title(\"Test Set Scatter Plot\")\n",
    "plt.xlabel(\"Predicted Y\")\n",
    "plt.ylabel(\"Actual Y\")\n",
    "\n",
    "sns.scatterplot(x = y_hat, y = y_test)\n",
    "r2_train = r2_score(y_test, y_hat)\n",
    "print(\"R2 score using test set: \", r2_train)"
   ]
  },
  {
   "cell_type": "markdown",
   "id": "d030b74a",
   "metadata": {},
   "source": [
    "Both the train and test sets follow a linearly increasing trend between their respective y_hat (predicted) and y (actual) values. Backed by high R2 scores, these imply that the model shows good fit for the data set."
   ]
  },
  {
   "cell_type": "markdown",
   "id": "1fc99387",
   "metadata": {},
   "source": [
    "## 3. What happens to the error, r2, and cost as the number of iterations increase? Show your data and proof. You can alternatively plot your result data for visualization and check until 50000 iterations or more (actually)."
   ]
  },
  {
   "cell_type": "markdown",
   "id": "b4399a0b",
   "metadata": {},
   "source": [
    "### Calculating the error, r2, and cost for 1000, 10000, and 50000 iterations"
   ]
  },
  {
   "cell_type": "code",
   "execution_count": 53,
   "id": "9d103173",
   "metadata": {},
   "outputs": [],
   "source": [
    "# setting 0 as initial weights and using the test set for each iteration and \n",
    "# pre-calculating results up to the 50000th iteration\n",
    "\n",
    "weights = initialize_weights()\n",
    "training_costs, actual_weights = grad_descent(x_train, y_train, 50000, weights)"
   ]
  },
  {
   "cell_type": "code",
   "execution_count": 54,
   "id": "068a0237",
   "metadata": {},
   "outputs": [
    {
     "name": "stdout",
     "output_type": "stream",
     "text": [
      "cost for 1000 iterations:  0.051079831065374885\n",
      "r2 score for 1000 iterations:  0.8936787899351376\n",
      "MAE for 1000 iterations:  0.23638702622051314\n"
     ]
    }
   ],
   "source": [
    "# error, r2, and cost for 1000 iterations\n",
    "\n",
    "y_hat1 = predict(x_train, actual_weights[999])\n",
    "r2_score1 = r2_score(y_train, y_hat1)\n",
    "MAE1 = mean_absolute_error(y_train, y_hat1)\n",
    "print(\"cost for 1000 iterations: \", training_costs[999])\n",
    "print(\"r2 score for 1000 iterations: \", r2_score1)\n",
    "print(\"MAE for 1000 iterations: \", MAE1)"
   ]
  },
  {
   "cell_type": "code",
   "execution_count": 55,
   "id": "b69c91fb",
   "metadata": {},
   "outputs": [
    {
     "name": "stdout",
     "output_type": "stream",
     "text": [
      "cost for 10000 iterations:  0.05107955472978693\n",
      "r2 score for 10000 iterations:  0.8936793584593188\n",
      "MAE for 10000 iterations:  0.2363335722057068\n"
     ]
    }
   ],
   "source": [
    "# error, r2, and cost for 10000 iterations\n",
    "\n",
    "y_hat2 = predict(x_train, actual_weights[9999])\n",
    "r2_score2 = r2_score(y_train, y_hat2)\n",
    "MAE2 = mean_absolute_error(y_train, y_hat2)\n",
    "print(\"cost for 10000 iterations: \", training_costs[9999])\n",
    "print(\"r2 score for 10000 iterations: \", r2_score2)\n",
    "print(\"MAE for 10000 iterations: \", MAE2)"
   ]
  },
  {
   "cell_type": "code",
   "execution_count": 56,
   "id": "9f519608",
   "metadata": {},
   "outputs": [
    {
     "name": "stdout",
     "output_type": "stream",
     "text": [
      "cost for 50000 iterations:  0.05107955472978693\n",
      "r2 score for 50000 iterations:  0.8936793584593188\n",
      "MAE for 50000 iterations:  0.2363335722057068\n"
     ]
    }
   ],
   "source": [
    "# error, r2, and cost for 50000 iterations\n",
    "\n",
    "y_hat3 = predict(x_train, actual_weights[49999])\n",
    "r2_score3 = r2_score(y_train, y_hat3)\n",
    "MAE3 = mean_absolute_error(y_train, y_hat3)\n",
    "print(\"cost for 50000 iterations: \", training_costs[49999])\n",
    "print(\"r2 score for 50000 iterations: \", r2_score3)\n",
    "print(\"MAE for 50000 iterations: \", MAE3)"
   ]
  },
  {
   "cell_type": "markdown",
   "id": "c65a64c4",
   "metadata": {},
   "source": [
    "As the number of iterations increases, so do the r2 scores. The mean absolute error and cost, however, decrease as the number of iterations increases, indicating an inverse relationship among these values. Additionally, the changes also become more minute as iterations are increased. In fact, between the 10000th and 50000th iterations, no changes among the r2 score, cost, and MAE can be seen.\n"
   ]
  },
  {
   "cell_type": "markdown",
   "id": "5ed9e209",
   "metadata": {},
   "source": [
    "## 4. Once you determine the optimal number of iterations, check the effect on the cost and error as you change the learning rate. The common learning rates in machine learning include 0.1, 0.01, 0.001, 0.0001, 0.2 but you have the option to include others. Visualize the cost function (vs the optimal number of iterations) of each learning rate in ONLY ONE PLOT. Provide your analysis."
   ]
  },
  {
   "cell_type": "code",
   "execution_count": 57,
   "id": "c667dd42",
   "metadata": {},
   "outputs": [
    {
     "name": "stdout",
     "output_type": "stream",
     "text": [
      "Optimal iteration:  395\n"
     ]
    }
   ],
   "source": [
    "# based on the results, around 0.051 is the optimal cost as it no longer lowers beyond that number in later iterations\n",
    "# round off the training costs to three decimal places\n",
    "round_cost = np.round(training_costs, 3)\n",
    "\n",
    "# finding the iteration where the cost is equal to 0.051\n",
    "optimal_iteration = np.where(round_cost == 0.051)\n",
    "\n",
    "# using optimal_iteration[0][0] to get the first iteration where the cost is equal to 0.51\n",
    "print(\"Optimal iteration: \", optimal_iteration[0][0])"
   ]
  },
  {
   "cell_type": "code",
   "execution_count": 58,
   "id": "7709f834",
   "metadata": {},
   "outputs": [
    {
     "name": "stdout",
     "output_type": "stream",
     "text": [
      "For alpha rate, a = 0.0001: \n",
      "Cost:  0.44536428998765176\n",
      "R2 score: 0.07316466002826261\n",
      "MAE: 0.7659393426083329\n",
      "\n",
      "\n",
      "For alpha rate, a = 0.001: \n",
      "Cost:  0.23622673852442644\n",
      "R2 score: 0.5091073142387439\n",
      "MAE: 0.5448373669343117\n",
      "\n",
      "\n",
      "For alpha rate, a = 0.01: \n",
      "Cost:  0.051500250039664096\n",
      "R2 score: 0.8928156299702762\n",
      "MAE: 0.23829966701270577\n",
      "\n",
      "\n",
      "For alpha rate, a = 0.1: \n",
      "Cost:  0.051079554729786925\n",
      "R2 score: 0.8936793584593189\n",
      "MAE: 0.2363335722067986\n",
      "\n",
      "\n",
      "For alpha rate, a = 0.2: \n",
      "Cost:  0.051079554729786925\n",
      "R2 score: 0.8936793584593189\n",
      "MAE: 0.23633357220570614\n",
      "\n",
      "\n"
     ]
    }
   ],
   "source": [
    "list_of_alpha = [0.0001, 0.001, 0.01, 0.1, 0.2]\n",
    "list_of_costs = []\n",
    "optimal_i = optimal_iteration[0][0]\n",
    "\n",
    "for alpha in list_of_alpha:\n",
    "    print(\"For alpha rate, a = \" + str(alpha) + \": \")\n",
    "    \n",
    "    weights = initialize_weights()\n",
    "    training_costs4, actual_weights4 = grad_descent(x_train, y_train, optimal_i, weights, alpha)\n",
    "    list_of_costs.append(training_costs4)\n",
    "    \n",
    "    y_hat4 = predict(x_train, actual_weights4[-1])\n",
    "    r2_score4 = r2_score(y_train, y_hat4)\n",
    "    MAE4 = mean_absolute_error(y_train, y_hat4)\n",
    "    print(\"Cost: \", training_costs4[-1])\n",
    "    print(\"R2 score:\", r2_score4)\n",
    "    print(\"MAE:\", MAE4)\n",
    "    print(\"\\n\")\n",
    "    \n"
   ]
  },
  {
   "cell_type": "code",
   "execution_count": 59,
   "id": "ff7f3533",
   "metadata": {},
   "outputs": [
    {
     "data": {
      "text/plain": [
       "<AxesSubplot:title={'center':'Cost of different learning rates'}, xlabel='Number of Iterations', ylabel='Cost'>"
      ]
     },
     "execution_count": 59,
     "metadata": {},
     "output_type": "execute_result"
    },
    {
     "data": {
      "image/png": "[encoded data removed]",
      "text/plain": [
       "<Figure size 432x288 with 1 Axes>"
      ]
     },
     "metadata": {
      "needs_background": "light"
     },
     "output_type": "display_data"
    }
   ],
   "source": [
    "# plotting the costs of different learning rates\n",
    "\n",
    "data_cost = pd.DataFrame(list_of_costs).T\n",
    "data_cost.columns = list_of_alpha\n",
    "plt.title(\"Cost of different learning rates\")\n",
    "plt.xlabel(\"Number of Iterations\")\n",
    "plt.ylabel(\"Cost\")\n",
    "sns.lineplot(data = data_cost)"
   ]
  },
  {
   "cell_type": "markdown",
   "id": "47b6aad9",
   "metadata": {},
   "source": [
    "From the plot, we can see that among the different learning rates, a = 0.0001 is the least steep which means that it would take the longest time for it to reach the optimal iteration, as 0.0001 is just too little of a step in obtaining the optimum value. This is followed by a = 0.001 which can still be improved. The rate starts to get better at a = 0.01 as the rate is not too high or low with the MAE decreasing as well. Increasing it to a = 0.1 however furthers the improvement. Lastly, the best learning rate can be seen at a = 0.2, showing the most drastic decrease in cost in the least possible iterations."
   ]
  },
  {
   "cell_type": "markdown",
   "id": "f0c9b078",
   "metadata": {},
   "source": [
    "## 5. Is there a relationship on the learning rate and the number of iterations?"
   ]
  },
  {
   "cell_type": "markdown",
   "id": "441f33bd",
   "metadata": {},
   "source": [
    "As previously observed in (4), as the learning rate is gradually increased, the number of iterations to get to the optimal number also decreases, which shows an inversely proportional relationship. Higher learning rates in the plot also show that  costs lessen more drastically in lesser number of iterations, while lower learning rates would take more iterations."
   ]
  },
  {
   "cell_type": "markdown",
   "id": "f6ccf575",
   "metadata": {},
   "source": [
    "## 6. Compare the results with the results of ordinary least squares function."
   ]
  },
  {
   "cell_type": "code",
   "execution_count": 61,
   "id": "79fc69b2",
   "metadata": {},
   "outputs": [
    {
     "data": {
      "text/plain": [
       "array([ 0.44441111,  1.30168679,  1.43691235, -0.66730857,  1.55533551,\n",
       "       -0.19033088,  1.34451196, -1.25613029, -0.07239572,  0.21395403,\n",
       "       -0.9477649 , -1.4143734 ,  0.04187445, -0.9794427 , -0.82941714,\n",
       "       -0.35860114, -1.02352749,  0.43360346, -0.72253191,  0.92669059,\n",
       "        1.04134773, -0.18638735, -0.32341141,  1.3765889 , -1.1785509 ,\n",
       "       -1.57241482,  1.28461088, -0.38557956, -0.92832092, -1.05226106])"
      ]
     },
     "execution_count": 61,
     "metadata": {},
     "output_type": "execute_result"
    }
   ],
   "source": [
    "lr = LinearRegression().fit(x_train, y_train)\n",
    "lr_yhat = lr.predict(x_test)\n",
    "lr_yhat"
   ]
  },
  {
   "cell_type": "code",
   "execution_count": 63,
   "id": "8e7fec20",
   "metadata": {},
   "outputs": [
    {
     "name": "stdout",
     "output_type": "stream",
     "text": [
      "R2 score:  0.9110275702091714\n"
     ]
    }
   ],
   "source": [
    "# calculating the r2 score of the linear regression\n",
    "\n",
    "r2_score_lr = lr.score(x_test, y_test)\n",
    "print(\"R2 score: \", r2_score_lr)"
   ]
  },
  {
   "cell_type": "code",
   "execution_count": 64,
   "id": "6d27febb",
   "metadata": {},
   "outputs": [
    {
     "data": {
      "text/plain": [
       "array([ 0.45632242,  1.28440583,  1.42255522, -0.6482762 ,  1.47624351,\n",
       "       -0.16993274,  1.30064552, -1.2352999 , -0.07222912,  0.21357984,\n",
       "       -0.96178875, -1.37293563,  0.1208764 , -0.98922631, -0.79911416,\n",
       "       -0.33197871, -0.9948767 ,  0.40902538, -0.70284619,  0.88597173,\n",
       "        1.06582203, -0.09822649, -0.35109566,  1.3892682 , -1.1769486 ,\n",
       "       -1.53434624,  1.2500434 , -0.39232188, -0.90517284, -1.0666816 ])"
      ]
     },
     "execution_count": 64,
     "metadata": {},
     "output_type": "execute_result"
    }
   ],
   "source": [
    "# using the weight of the optimal iteration of the gradient descent\n",
    "\n",
    "optimal_yhat = predict(x_test, actual_weights[394])\n",
    "optimal_yhat"
   ]
  },
  {
   "cell_type": "code",
   "execution_count": 65,
   "id": "327ee6e8",
   "metadata": {},
   "outputs": [
    {
     "name": "stdout",
     "output_type": "stream",
     "text": [
      "R2 score:  0.906288920753653\n"
     ]
    }
   ],
   "source": [
    "# calculating the r2 score\n",
    "\n",
    "optimal_r2_score = r2_score(y_test, optimal_yhat)\n",
    "print(\"R2 score: \", optimal_r2_score)"
   ]
  },
  {
   "cell_type": "markdown",
   "id": "0ff73775",
   "metadata": {},
   "source": [
    "Gathering the results of the gradient descent (r2 = 0.894, at a = 0.2) and linear regression (r2 = 0.906), the difference between the r2 scores is seen to be minimal, with OLS scoring slightly higher. Despite both being good fit to the data, the results also imply that OLS provides a slightly better fit since it has a higher r2 score than a gradient descent with a learning rate of 0.2."
   ]
  }
 ],
 "metadata": {
  "kernelspec": {
   "display_name": "Python 3 (ipykernel)",
   "language": "python",
   "name": "python3"
  },
  "language_info": {
   "codemirror_mode": {
    "name": "ipython",
    "version": 3
   },
   "file_extension": ".py",
   "mimetype": "text/x-python",
   "name": "python",
   "nbconvert_exporter": "python",
   "pygments_lexer": "ipython3",
   "version": "3.9.12"
  }
 },
 "nbformat": 4,
 "nbformat_minor": 5
}
