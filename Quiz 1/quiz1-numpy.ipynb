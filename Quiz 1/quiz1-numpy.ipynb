{
 "cells": [
  {
   "cell_type": "markdown",
   "id": "60d5ce2a",
   "metadata": {},
   "source": [
    "# CMSC 197 (Machine Learning) - Quiz 1\n",
    "### Earl James Q. Rentillo"
   ]
  },
  {
   "cell_type": "code",
   "execution_count": 1,
   "id": "a5987817",
   "metadata": {},
   "outputs": [],
   "source": [
    "import numpy as np"
   ]
  },
  {
   "cell_type": "markdown",
   "id": "61da9862",
   "metadata": {},
   "source": [
    "# Part 1."
   ]
  },
  {
   "cell_type": "markdown",
   "id": "81a70b06",
   "metadata": {},
   "source": [
    "### 1.1 Creating arrays y_hat and y and initializing elements"
   ]
  },
  {
   "cell_type": "code",
   "execution_count": 2,
   "id": "7a23b1c4",
   "metadata": {},
   "outputs": [
    {
     "name": "stdout",
     "output_type": "stream",
     "text": [
      "y_hat: \n",
      "[-1.         -0.89473684 -0.78947368 -0.68421053 -0.57894737 -0.47368421\n",
      " -0.36842105 -0.26315789 -0.15789474 -0.05263158  0.05263158  0.15789474\n",
      "  0.26315789  0.36842105  0.47368421  0.57894737  0.68421053  0.78947368\n",
      "  0.89473684  1.        ]\n",
      "\n",
      "y: \n",
      "[0.         0.05263158 0.10526316 0.15789474 0.21052632 0.26315789\n",
      " 0.31578947 0.36842105 0.42105263 0.47368421 0.52631579 0.57894737\n",
      " 0.63157895 0.68421053 0.73684211 0.78947368 0.84210526 0.89473684\n",
      " 0.94736842 1.        ]\n",
      "\n"
     ]
    }
   ],
   "source": [
    "y_hat = np.linspace(-1, 1, num=20)\n",
    "y = np.linspace(0, 1, num=20)\n",
    "\n",
    "print(\"y_hat: \\n\" + str(y_hat) + \"\\n\")\n",
    "print(\"y: \\n\" + str(y) + \"\\n\")"
   ]
  },
  {
   "cell_type": "markdown",
   "id": "229e0448",
   "metadata": {},
   "source": [
    "### 1.2 Calculating shape and dimension"
   ]
  },
  {
   "cell_type": "code",
   "execution_count": 3,
   "id": "7098220a",
   "metadata": {},
   "outputs": [
    {
     "name": "stdout",
     "output_type": "stream",
     "text": [
      "shape of array y_hat: (20,)\n",
      "dimension of array_hat: 1\n",
      "\n",
      "shape of array y: (20,)\n",
      "dimension of array y: 1\n"
     ]
    }
   ],
   "source": [
    "y_hat_shape = y_hat.shape\n",
    "y_hat_dim = y_hat.ndim\n",
    "\n",
    "y_shape = y.shape\n",
    "y_dim = y.ndim\n",
    "\n",
    "print(\"shape of array y_hat: \" + str(y_hat_shape))\n",
    "print(\"dimension of array_hat: \" + str(y_hat_dim) + \"\\n\")\n",
    "print(\"shape of array y: \" + str(y_shape))\n",
    "print(\"dimension of array y: \" + str(y_dim))"
   ]
  },
  {
   "cell_type": "markdown",
   "id": "de684ae9",
   "metadata": {},
   "source": [
    "### 1.3 Calculating loss values"
   ]
  },
  {
   "cell_type": "markdown",
   "id": "6cb8cb52",
   "metadata": {},
   "source": [
    "Mean Squared Error"
   ]
  },
  {
   "cell_type": "code",
   "execution_count": 4,
   "id": "c7604d2f",
   "metadata": {},
   "outputs": [
    {
     "data": {
      "text/plain": [
       "'Mean Squared Error: 0.34210526315789475'"
      ]
     },
     "execution_count": 4,
     "metadata": {},
     "output_type": "execute_result"
    }
   ],
   "source": [
    "def mse(y_hat, y):\n",
    "    N = y_hat.shape[0]\n",
    "    sum = 0\n",
    "    for i in range(N):\n",
    "        sq_diff = (y_hat[i] - y[i]) ** 2\n",
    "        sum += sq_diff\n",
    "    L = 1/N * sum\n",
    "    return(\"Mean Squared Error: \" + str(L))\n",
    "\n",
    "mse(y_hat,y)"
   ]
  },
  {
   "cell_type": "markdown",
   "id": "6606d28f",
   "metadata": {},
   "source": [
    "Mean Absolute Error"
   ]
  },
  {
   "cell_type": "code",
   "execution_count": 5,
   "id": "7c03909f",
   "metadata": {},
   "outputs": [
    {
     "data": {
      "text/plain": [
       "'Mean Absolute Error: 0.5000000000000001'"
      ]
     },
     "execution_count": 5,
     "metadata": {},
     "output_type": "execute_result"
    }
   ],
   "source": [
    "def mae(y_hat, y):\n",
    "    n = y_hat.shape[0]\n",
    "    sum = 0\n",
    "    for i in range(n):\n",
    "        abs_diff = abs(y_hat[i] - y[i])\n",
    "        sum += abs_diff\n",
    "    L = 1/n * sum\n",
    "    return(\"Mean Absolute Error: \" + str(L))\n",
    "\n",
    "mae(y_hat,y)"
   ]
  },
  {
   "cell_type": "markdown",
   "id": "f1a5dbf6",
   "metadata": {},
   "source": [
    "Mean Squared Logarithmic Error "
   ]
  },
  {
   "cell_type": "code",
   "execution_count": 6,
   "id": "5f362ed5",
   "metadata": {},
   "outputs": [
    {
     "data": {
      "text/plain": [
       "'Mean Squared Logarithmic Error: Error. Exactly one of the target variables in the same location cannot be 0.'"
      ]
     },
     "execution_count": 6,
     "metadata": {},
     "output_type": "execute_result"
    }
   ],
   "source": [
    "def msle(y_hat, y):\n",
    "    n = y_hat.shape[0]\n",
    "    sum = 0\n",
    "    for i in range(n):\n",
    "        if (y_hat[i]+1 == 0 and y[i]+1 == 1) or (y_hat[i]+1 == 1 and y[i]+1 == 0):\n",
    "            L = \"Error. Exactly one of the target variables in the same location cannot be 0.\"\n",
    "        elif (y_hat[i]+1 < 0) or (y[i]+1 < 0):\n",
    "            L = \"Error. Cannot compute log of negative number.\"\n",
    "        else:  \n",
    "            sq_log = (np.log(y_hat[i] + 1) - np.log(y[i] + 1)) ** 2\n",
    "            sum += sq_log\n",
    "    return(\"Mean Squared Logarithmic Error: \" + str(L))\n",
    "\n",
    "msle(y_hat,y)    "
   ]
  },
  {
   "cell_type": "markdown",
   "id": "42ea9e22",
   "metadata": {},
   "source": [
    "Mean Absolute Percentage Error"
   ]
  },
  {
   "cell_type": "code",
   "execution_count": 7,
   "id": "19c9541a",
   "metadata": {},
   "outputs": [
    {
     "data": {
      "text/plain": [
       "'Mean Absolute Percentage Error: Division by zero error. MAPE is infinite.'"
      ]
     },
     "execution_count": 7,
     "metadata": {},
     "output_type": "execute_result"
    }
   ],
   "source": [
    "def mape(y_hat, y):\n",
    "    n = y_hat.shape[0]\n",
    "    sum = 0\n",
    "    for i in range(n):\n",
    "        if y[i] == 0:\n",
    "            L = \"Division by zero error. MAPE is infinite.\"\n",
    "            break\n",
    "        abs_div = abs((y_hat[i] - y[i])/y[i])\n",
    "        sum += abs_div\n",
    "        L = 1/n\n",
    "    return(\"Mean Absolute Percentage Error: \" + str(L))\n",
    "\n",
    "mape(y_hat,y)   "
   ]
  },
  {
   "cell_type": "markdown",
   "id": "24853d03",
   "metadata": {},
   "source": [
    "# Part 2."
   ]
  },
  {
   "cell_type": "code",
   "execution_count": 8,
   "id": "baa995d9",
   "metadata": {},
   "outputs": [
    {
     "name": "stdout",
     "output_type": "stream",
     "text": [
      "array M: [ 1  2  3  4  5  6  7  8  9 10 11 12 13 14 15 16]\n"
     ]
    }
   ],
   "source": [
    "M = np.arange(1, 17)\n",
    "print(\"array M: \" + str(M))"
   ]
  },
  {
   "cell_type": "markdown",
   "id": "465f0340",
   "metadata": {},
   "source": [
    "### 2.1 Reshaping array M"
   ]
  },
  {
   "cell_type": "code",
   "execution_count": 9,
   "id": "a48cd07c",
   "metadata": {
    "scrolled": true
   },
   "outputs": [
    {
     "name": "stdout",
     "output_type": "stream",
     "text": [
      "array N: \n",
      "[[ 1  2  3  4]\n",
      " [ 5  6  7  8]\n",
      " [ 9 10 11 12]\n",
      " [13 14 15 16]]\n"
     ]
    }
   ],
   "source": [
    "N = M.reshape(4,4)\n",
    "print(\"array N: \\n\" + str(N))"
   ]
  },
  {
   "cell_type": "markdown",
   "id": "7e07a26d",
   "metadata": {},
   "source": [
    "### 2.2 Getting the 2nd row of N"
   ]
  },
  {
   "cell_type": "code",
   "execution_count": 10,
   "id": "58b23c90",
   "metadata": {},
   "outputs": [
    {
     "name": "stdout",
     "output_type": "stream",
     "text": [
      "2nd row of N: [5 6 7 8]\n"
     ]
    }
   ],
   "source": [
    "print(\"2nd row of N: \" + str(N[1]))"
   ]
  },
  {
   "cell_type": "markdown",
   "id": "897b7fd8",
   "metadata": {},
   "source": [
    "### 2.3 Getting the minimum values for each column of N"
   ]
  },
  {
   "cell_type": "code",
   "execution_count": 11,
   "id": "c6840e5e",
   "metadata": {},
   "outputs": [
    {
     "name": "stdout",
     "output_type": "stream",
     "text": [
      "min. value for column 0: 1\n",
      "min. value for column 1: 2\n",
      "min. value for column 2: 3\n",
      "min. value for column 3: 4\n"
     ]
    }
   ],
   "source": [
    "min_array = np.min(N, axis = 0)\n",
    "\n",
    "for i in range(len(min_array)):\n",
    "    print(\"min. value for column \" + str(i) + \": \" + str(min_array[i]))"
   ]
  },
  {
   "cell_type": "markdown",
   "id": "53d6475b",
   "metadata": {},
   "source": [
    "###  2.4 Getting the locations of the minimum values for each column of N"
   ]
  },
  {
   "cell_type": "code",
   "execution_count": 12,
   "id": "7ba61b9d",
   "metadata": {},
   "outputs": [
    {
     "name": "stdout",
     "output_type": "stream",
     "text": [
      "location of the min. value for column 0: N[0, 0]\n",
      "location of the min. value for column 1: N[0, 1]\n",
      "location of the min. value for column 2: N[0, 2]\n",
      "location of the min. value for column 3: N[0, 3]\n"
     ]
    }
   ],
   "source": [
    "loc_list=[]\n",
    "for i in range(len(min_array)):\n",
    "    loc = [z[0] for z in np.where(N == min_array[i])]\n",
    "    loc_list.append(loc)\n",
    "\n",
    "for i in range(len(loc_list)):\n",
    "    print(\"location of the min. value for column \" + str(i) + \": N\" + str(loc_list[i]))"
   ]
  },
  {
   "cell_type": "markdown",
   "id": "8bbda721",
   "metadata": {},
   "source": [
    "### 2.5 Getting the average of the whole matrix"
   ]
  },
  {
   "cell_type": "code",
   "execution_count": 13,
   "id": "189dcc47",
   "metadata": {},
   "outputs": [
    {
     "name": "stdout",
     "output_type": "stream",
     "text": [
      "average of the whole matrix: 8.5\n"
     ]
    }
   ],
   "source": [
    "sum = 0\n",
    "for i in N:\n",
    "    for j in i:\n",
    "        sum += j\n",
    "        \n",
    "average = sum/N.size\n",
    "print(\"average of the whole matrix: \" + str(average))"
   ]
  },
  {
   "cell_type": "markdown",
   "id": "531c97ba",
   "metadata": {},
   "source": [
    "### 2.6 Creating a vector V with 4 elements, each element is 1"
   ]
  },
  {
   "cell_type": "code",
   "execution_count": 14,
   "id": "54bfd6e1",
   "metadata": {},
   "outputs": [
    {
     "name": "stdout",
     "output_type": "stream",
     "text": [
      "vector V: [1 1 1 1]\n"
     ]
    }
   ],
   "source": [
    "V = np.ones((4,), dtype='int32')\n",
    "print(\"vector V: \" + str(V))"
   ]
  },
  {
   "cell_type": "markdown",
   "id": "335bc7b5",
   "metadata": {},
   "source": [
    "### 2.7 Taking the dot product of N and V"
   ]
  },
  {
   "cell_type": "code",
   "execution_count": 15,
   "id": "b4fce553",
   "metadata": {},
   "outputs": [
    {
     "name": "stdout",
     "output_type": "stream",
     "text": [
      "dot product of N and V: [10 26 42 58]\n"
     ]
    }
   ],
   "source": [
    "print(\"dot product of N and V: \" + str(np.dot(N, V)))"
   ]
  }
 ],
 "metadata": {
  "kernelspec": {
   "display_name": "Python 3 (ipykernel)",
   "language": "python",
   "name": "python3"
  },
  "language_info": {
   "codemirror_mode": {
    "name": "ipython",
    "version": 3
   },
   "file_extension": ".py",
   "mimetype": "text/x-python",
   "name": "python",
   "nbconvert_exporter": "python",
   "pygments_lexer": "ipython3",
   "version": "3.9.12"
  }
 },
 "nbformat": 4,
 "nbformat_minor": 5
}
